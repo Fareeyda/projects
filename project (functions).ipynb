{
 "cells": [
  {
   "attachments": {},
   "cell_type": "markdown",
   "metadata": {},
   "source": [
    "PROJECT"
   ]
  },
  {
   "attachments": {},
   "cell_type": "markdown",
   "metadata": {},
   "source": [
    "FUNCTIONS"
   ]
  },
  {
   "attachments": {},
   "cell_type": "markdown",
   "metadata": {},
   "source": [
    "CHAPTER 8"
   ]
  },
  {
   "cell_type": "code",
   "execution_count": 1,
   "metadata": {},
   "outputs": [
    {
     "name": "stdout",
     "output_type": "stream",
     "text": [
      "I'm learning functions.\n"
     ]
    }
   ],
   "source": [
    "#8-1\n",
    "def display_message():\n",
    "    \"\"\"Display a message about what I'm learning.\"\"\"\n",
    "    msg = \"I'm learning functions.\"\n",
    "    print(msg)\n",
    "\n",
    "display_message()"
   ]
  },
  {
   "cell_type": "code",
   "execution_count": 12,
   "metadata": {},
   "outputs": [
    {
     "name": "stdout",
     "output_type": "stream",
     "text": [
      "One of my favorite books is The art of war\n"
     ]
    }
   ],
   "source": [
    "#8-2\n",
    "def favorite_book(title):\n",
    "    print(\"One of my favorite books is \" + title)\n",
    "\n",
    "favorite_book(\"The art of war\")"
   ]
  },
  {
   "cell_type": "code",
   "execution_count": 1,
   "metadata": {},
   "outputs": [
    {
     "name": "stdout",
     "output_type": "stream",
     "text": [
      "size of  Shirt small and text message 'I love Islam' is now ready!\n",
      "size of  Shirt small and text message 'Arewa Data Science' is now ready!\n"
     ]
    }
   ],
   "source": [
    "#8-3\n",
    "def make_shirt(size, message_text):\n",
    "    print(\"size of  Shirt \" + size + \" and text message '\" + message_text + \"' is now ready!\")\n",
    "\n",
    "#using positional argument:\n",
    "make_shirt(\"small\", \"I love Islam\")\n",
    "\n",
    "#using keyword argument:\n",
    "make_shirt(message_text = \"Arewa Data Science\", size = \"small\")"
   ]
  },
  {
   "cell_type": "code",
   "execution_count": 2,
   "metadata": {},
   "outputs": [
    {
     "name": "stdout",
     "output_type": "stream",
     "text": [
      "size of shirt large and text message 'I love Python' is now ready!\n",
      "size of shirt medium and text message 'I love Python' is now ready!\n",
      "size of shirt small and text message 'Happy Independence' is now ready!\n"
     ]
    }
   ],
   "source": [
    "#8-4\n",
    "def modified_make_shirt(size = \"large\", message_text = \"I love Python\"):\n",
    "    print(\"size of shirt \" + size + \" and text message '\" + message_text + \"' is now ready!\")\n",
    "\n",
    "#calling without passing arguments:\n",
    "modified_make_shirt()\n",
    "\n",
    "#medium shirt with defautlt message\n",
    "modified_make_shirt(\"medium\")\n",
    "\n",
    "#shirt of no default size and default message\n",
    "modified_make_shirt(\"small\", \"Happy Independence\")"
   ]
  },
  {
   "cell_type": "code",
   "execution_count": 3,
   "metadata": {},
   "outputs": [
    {
     "name": "stdout",
     "output_type": "stream",
     "text": [
      "Abuja is in Nigeria.\n"
     ]
    }
   ],
   "source": [
    "#8-5\n",
    "def describe_city(city, country='Nigeria'):\n",
    "    \"\"\"Describe a city.\"\"\"\n",
    "    msg = f\"{city.title()} is in {country.title()}.\"\n",
    "    print(msg)\n",
    "\n",
    "describe_city('Abuja')"
   ]
  },
  {
   "cell_type": "code",
   "execution_count": 24,
   "metadata": {},
   "outputs": [
    {
     "name": "stdout",
     "output_type": "stream",
     "text": [
      "Abuja, Nigeria\n"
     ]
    }
   ],
   "source": [
    "#8-6\n",
    "def city_country(city, country):\n",
    "    result_string = city.title() + \", \" + country.title()\n",
    "    return result_string\n",
    "\n",
    "print(city_country(\"Abuja\", \"Nigeria\"))\n"
   ]
  },
  {
   "cell_type": "code",
   "execution_count": 5,
   "metadata": {},
   "outputs": [
    {
     "name": "stdout",
     "output_type": "stream",
     "text": [
      "{'artist_name': 'Maroon 5', 'album_title': 'Pay Phone'}\n",
      "{'artist_name': 'Owl City', 'album_title': 'Fireflies'}\n"
     ]
    }
   ],
   "source": [
    "#8-7\n",
    "def make_album(artist_name, album_title,):\n",
    "    \n",
    "    album = {}\n",
    "    album[\"artist_name\"] = artist_name.title()\n",
    "    album[\"album_title\"] = album_title.title()\n",
    "    return album\n",
    "\n",
    "print(make_album(\"Maroon 5\", \"pay phone\"))\n",
    "print(make_album(\"owl city\", \"fireflies\"))\n"
   ]
  },
  {
   "cell_type": "code",
   "execution_count": 27,
   "metadata": {},
   "outputs": [
    {
     "name": "stdout",
     "output_type": "stream",
     "text": [
      "{'artist_name': 'Maroon 5', 'album_title': 'Pay Phone'}\n"
     ]
    }
   ],
   "source": [
    "#8-8\n",
    "quit = \"\"\n",
    "\n",
    "while quit != \"q\":\n",
    "    artist_name = input(\"Enter artist's name \")\n",
    "    album_title = input(\"Enter album's title \")\n",
    "    \n",
    "    print(make_album(artist_name, album_title))\n",
    "    \n",
    "    quit = input(\"enter 'q' if you want to quit OR 'c' if you want to continue \")\n",
    "    "
   ]
  },
  {
   "cell_type": "code",
   "execution_count": 6,
   "metadata": {},
   "outputs": [
    {
     "name": "stdout",
     "output_type": "stream",
     "text": [
      "my name is Faridah\n",
      "i love programming\n",
      ":)\n"
     ]
    }
   ],
   "source": [
    "#8-9\n",
    "def show_messages(messages):\n",
    "    \"\"\"Print all messages in the list.\"\"\"\n",
    "    for message in messages:\n",
    "        print(message)\n",
    "\n",
    "messages = [\"my name is Faridah\", \"i love programming\", \":)\"]\n",
    "show_messages(messages)"
   ]
  },
  {
   "cell_type": "code",
   "execution_count": 6,
   "metadata": {},
   "outputs": [
    {
     "name": "stdout",
     "output_type": "stream",
     "text": [
      "Showing all messages:\n",
      "my name is faridah\n",
      "i love programming\n",
      "\n",
      "Sending all messages:\n",
      "i love programming\n",
      "my name is faridah\n",
      "\n",
      "Final lists:\n",
      "[]\n",
      "['i love programming', 'my name is faridah']\n"
     ]
    }
   ],
   "source": [
    "#8-10\n",
    "def show_messages(messages):\n",
    "    \"\"\"Print all messages in the list.\"\"\"\n",
    "    print(\"Showing all messages:\")\n",
    "    for message in messages:\n",
    "        print(message)\n",
    "\n",
    "def send_messages(messages, sent_messages):\n",
    "    \"\"\"Print each message, and then move it to sent_messages.\"\"\"\n",
    "    print(\"\\nSending all messages:\")\n",
    "    while messages:\n",
    "        current_message = messages.pop()\n",
    "        print(current_message)\n",
    "        sent_messages.append(current_message)\n",
    "\n",
    "messages = [\"my name is faridah\", \"i love programming\", ]\n",
    "show_messages(messages)\n",
    "\n",
    "sent_messages = []\n",
    "send_messages(messages, sent_messages)\n",
    "\n",
    "print(\"\\nFinal lists:\")\n",
    "print(messages)\n",
    "print(sent_messages)"
   ]
  },
  {
   "cell_type": "code",
   "execution_count": 7,
   "metadata": {},
   "outputs": [
    {
     "name": "stdout",
     "output_type": "stream",
     "text": [
      "Showing all messages:\n",
      "my name is faridah\n",
      "i love programming\n",
      "\n",
      "Sending all messages:\n",
      "i love programming\n",
      "my name is faridah\n",
      "\n",
      "Final lists:\n",
      "['my name is faridah', 'i love programming']\n",
      "['i love programming', 'my name is faridah']\n"
     ]
    }
   ],
   "source": [
    "#8-11\n",
    "def show_messages(messages):\n",
    "    \"\"\"Print all messages in the list.\"\"\"\n",
    "    print(\"Showing all messages:\")\n",
    "    for message in messages:\n",
    "        print(message)\n",
    "\n",
    "def send_messages(messages, sent_messages):\n",
    "    \"\"\"Print each message, and then move it to sent_messages.\"\"\"\n",
    "    print(\"\\nSending all messages:\")\n",
    "    while messages:\n",
    "        current_message = messages.pop()\n",
    "        print(current_message)\n",
    "        sent_messages.append(current_message)\n",
    "\n",
    "messages = [\"my name is faridah\", \"i love programming\",]\n",
    "show_messages(messages)\n",
    "\n",
    "sent_messages = []\n",
    "send_messages(messages[:], sent_messages)\n",
    "\n",
    "print(\"\\nFinal lists:\")\n",
    "print(messages)\n",
    "print(sent_messages)"
   ]
  },
  {
   "cell_type": "code",
   "execution_count": 7,
   "metadata": {},
   "outputs": [
    {
     "name": "stdout",
     "output_type": "stream",
     "text": [
      "You ordered a sandwich that has:\n",
      "cucumber\n",
      "cheese\n",
      "mayo\n",
      "egss\n",
      "You ordered a sandwich that has:\n",
      "bacon\n",
      "lettuce\n",
      "tomato\n",
      "You ordered a sandwich that has:\n",
      "cheese\n",
      "turkey\n",
      "honey\n"
     ]
    }
   ],
   "source": [
    "#8-12\n",
    "def order_sandwich(*ingredients):\n",
    "    print(\"You ordered a sandwich that has:\")\n",
    "    \n",
    "    for item in ingredients:\n",
    "        print(item)\n",
    "    \n",
    "order_sandwich(\"cucumber\", \"cheese\", \"mayo\", \"egss\")\n",
    "order_sandwich(\"bacon\", \"lettuce\", \"tomato\")\n",
    "order_sandwich(\"cheese\", \"turkey\", \"honey\")"
   ]
  },
  {
   "cell_type": "code",
   "execution_count": 12,
   "metadata": {},
   "outputs": [
    {
     "name": "stdout",
     "output_type": "stream",
     "text": [
      "First name:  Faridah\n",
      "Last name:  Yusuf\n",
      "Nationality: Nigerian\n",
      "Hair: Black\n",
      "Eyes: Brown\n"
     ]
    }
   ],
   "source": [
    "#8-13\n",
    "def build_profile(first_name, last_name, **kwargs):\n",
    "    print(\"First name: \", first_name)\n",
    "    print(\"Last name: \", last_name)\n",
    "    for k, v in kwargs.items():\n",
    "        print(f\"{k}: {v}\")\n",
    "build_profile(\"Faridah\", \"Yusuf\", Nationality=\"Nigerian\", Hair=\"Black\", Eyes=\"Brown\")\n",
    "\n"
   ]
  },
  {
   "cell_type": "code",
   "execution_count": 32,
   "metadata": {},
   "outputs": [
    {
     "name": "stdout",
     "output_type": "stream",
     "text": [
      "{'manufacturer': 'subaru', 'model': 'outback', 'color': 'blue', 'tow_package': True}\n"
     ]
    }
   ],
   "source": [
    "#8-14\n",
    "#Kwargs = keyword arguments\n",
    "def make_car(*args, **kwargs):\n",
    "    car_info = {}\n",
    "    car_info[\"manufacturer\"] = args[0]\n",
    "    car_info[\"model\"] = args[1]\n",
    "    \n",
    "    for key, val in kwargs.items():\n",
    "        car_info[key] = val\n",
    "    \n",
    "    return car_info\n",
    "\n",
    "print(make_car('subaru', 'outback', color='blue', tow_package=True))"
   ]
  },
  {
   "cell_type": "code",
   "execution_count": 1,
   "metadata": {},
   "outputs": [],
   "source": [
    "#8-15\n",
    "def print_models(unprinted_designs, completed_models):\n",
    "    while unprinted_designs:\n",
    "        current_design = unprinted_designs.pop()\n",
    "        print(f\"Printing model: {current_design}\")\n",
    "        completed_models.append(current_design)\n",
    "\n",
    "def show_completed_models(completed_models):\n",
    "    \"\"\"Show all the models that were printed.\"\"\"\n",
    "    print(\"\\nThe following models have been printed:\")\n",
    "    for completed_model in completed_models:\n",
    "        print(completed_model)"
   ]
  },
  {
   "cell_type": "code",
   "execution_count": 2,
   "metadata": {},
   "outputs": [
    {
     "name": "stdout",
     "output_type": "stream",
     "text": [
      "Printing model: dodecahedron\n",
      "Printing model: robot pendant\n",
      "Printing model: iphone case\n",
      "\n",
      "The following models have been printed:\n",
      "dodecahedron\n",
      "robot pendant\n",
      "iphone case\n"
     ]
    }
   ],
   "source": [
    "#8-16\n",
    "unprinted_designs = ['iphone case', 'robot pendant', 'dodecahedron']\n",
    "completed_models = []\n",
    "\n",
    "print_models(unprinted_designs, completed_models)\n",
    "show_completed_models(completed_models)"
   ]
  }
 ],
 "metadata": {
  "kernelspec": {
   "display_name": "Arewads",
   "language": "python",
   "name": "python3"
  },
  "language_info": {
   "codemirror_mode": {
    "name": "ipython",
    "version": 3
   },
   "file_extension": ".py",
   "mimetype": "text/x-python",
   "name": "python",
   "nbconvert_exporter": "python",
   "pygments_lexer": "ipython3",
   "version": "3.10.9"
  },
  "orig_nbformat": 4,
  "vscode": {
   "interpreter": {
    "hash": "ce4ab39d237ab020d1f66999490bb71f6e444211230b10a68dfb7657e2ce5ad4"
   }
  }
 },
 "nbformat": 4,
 "nbformat_minor": 2
}
